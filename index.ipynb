{
 "cells": [
  {
   "cell_type": "markdown",
   "metadata": {},
   "source": [
    "# Modeling Your Data \n",
    "\n",
    "## Introduction \n",
    "\n",
    "In this lesson you'll review the modeling process for running regression or similar statistical experiments."
   ]
  },
  {
   "cell_type": "markdown",
   "metadata": {},
   "source": [
    "## Objectives\n",
    "You will be able to:\n",
    "    \n",
    "* Identify the various steps involved  in building a model\n",
    "* Understand that modeling is an iterative process\n",
    "* Identify target variables and predictor variables"
   ]
  },
  {
   "cell_type": "markdown",
   "metadata": {},
   "source": [
    "## Fitting an Initial Model\n",
    "\n",
    "Here is a quick review of building a linear regression model. You can also use the scikit-learn package to do this, but you won't get as many descriptive statistics."
   ]
  },
  {
   "cell_type": "code",
   "execution_count": 1,
   "metadata": {},
   "outputs": [],
   "source": [
    "import pandas as pd\n",
    "import matplotlib.pyplot as plt\n",
    "import seaborn as sns\n",
    "%matplotlib inline"
   ]
  },
  {
   "cell_type": "code",
   "execution_count": 2,
   "metadata": {},
   "outputs": [
    {
     "data": {
      "text/html": [
       "<div>\n",
       "<style scoped>\n",
       "    .dataframe tbody tr th:only-of-type {\n",
       "        vertical-align: middle;\n",
       "    }\n",
       "\n",
       "    .dataframe tbody tr th {\n",
       "        vertical-align: top;\n",
       "    }\n",
       "\n",
       "    .dataframe thead th {\n",
       "        text-align: right;\n",
       "    }\n",
       "</style>\n",
       "<table border=\"1\" class=\"dataframe\">\n",
       "  <thead>\n",
       "    <tr style=\"text-align: right;\">\n",
       "      <th></th>\n",
       "      <th>MPG Highway</th>\n",
       "      <th>Passengers</th>\n",
       "      <th>Length</th>\n",
       "      <th>Wheelbase</th>\n",
       "      <th>Width</th>\n",
       "      <th>U Turn Space</th>\n",
       "      <th>Rear seat</th>\n",
       "      <th>Luggage</th>\n",
       "      <th>Weight</th>\n",
       "      <th>Horsepower</th>\n",
       "      <th>Fueltank</th>\n",
       "    </tr>\n",
       "  </thead>\n",
       "  <tbody>\n",
       "    <tr>\n",
       "      <th>0</th>\n",
       "      <td>31</td>\n",
       "      <td>5</td>\n",
       "      <td>177</td>\n",
       "      <td>102</td>\n",
       "      <td>68</td>\n",
       "      <td>37</td>\n",
       "      <td>26.5</td>\n",
       "      <td>11</td>\n",
       "      <td>2705</td>\n",
       "      <td>140</td>\n",
       "      <td>13.2</td>\n",
       "    </tr>\n",
       "    <tr>\n",
       "      <th>1</th>\n",
       "      <td>25</td>\n",
       "      <td>5</td>\n",
       "      <td>195</td>\n",
       "      <td>115</td>\n",
       "      <td>71</td>\n",
       "      <td>38</td>\n",
       "      <td>30.0</td>\n",
       "      <td>15</td>\n",
       "      <td>3560</td>\n",
       "      <td>200</td>\n",
       "      <td>18.0</td>\n",
       "    </tr>\n",
       "    <tr>\n",
       "      <th>2</th>\n",
       "      <td>26</td>\n",
       "      <td>5</td>\n",
       "      <td>180</td>\n",
       "      <td>102</td>\n",
       "      <td>67</td>\n",
       "      <td>37</td>\n",
       "      <td>28.0</td>\n",
       "      <td>14</td>\n",
       "      <td>3375</td>\n",
       "      <td>172</td>\n",
       "      <td>16.9</td>\n",
       "    </tr>\n",
       "    <tr>\n",
       "      <th>3</th>\n",
       "      <td>26</td>\n",
       "      <td>6</td>\n",
       "      <td>193</td>\n",
       "      <td>106</td>\n",
       "      <td>70</td>\n",
       "      <td>37</td>\n",
       "      <td>31.0</td>\n",
       "      <td>17</td>\n",
       "      <td>3405</td>\n",
       "      <td>172</td>\n",
       "      <td>21.1</td>\n",
       "    </tr>\n",
       "    <tr>\n",
       "      <th>4</th>\n",
       "      <td>30</td>\n",
       "      <td>4</td>\n",
       "      <td>186</td>\n",
       "      <td>109</td>\n",
       "      <td>69</td>\n",
       "      <td>39</td>\n",
       "      <td>27.0</td>\n",
       "      <td>13</td>\n",
       "      <td>3640</td>\n",
       "      <td>208</td>\n",
       "      <td>21.1</td>\n",
       "    </tr>\n",
       "  </tbody>\n",
       "</table>\n",
       "</div>"
      ],
      "text/plain": [
       "   MPG Highway  Passengers  Length  Wheelbase  Width  U Turn Space  Rear seat  \\\n",
       "0           31           5     177        102     68            37       26.5   \n",
       "1           25           5     195        115     71            38       30.0   \n",
       "2           26           5     180        102     67            37       28.0   \n",
       "3           26           6     193        106     70            37       31.0   \n",
       "4           30           4     186        109     69            39       27.0   \n",
       "\n",
       "   Luggage  Weight  Horsepower  Fueltank  \n",
       "0       11    2705         140      13.2  \n",
       "1       15    3560         200      18.0  \n",
       "2       14    3375         172      16.9  \n",
       "3       17    3405         172      21.1  \n",
       "4       13    3640         208      21.1  "
      ]
     },
     "execution_count": 2,
     "metadata": {},
     "output_type": "execute_result"
    }
   ],
   "source": [
    "df = pd.read_excel('mpg excercise.xls')\n",
    "df.head()"
   ]
  },
  {
   "cell_type": "code",
   "execution_count": 3,
   "metadata": {},
   "outputs": [],
   "source": [
    "# Define the problem\n",
    "outcome = 'MPG_Highway'\n",
    "x_cols = ['Passengers', 'Length', 'Wheelbase', 'Width', 'U_Turn_Space',\n",
    "          'Rear_seat', 'Luggage', 'Weight', 'Horsepower', 'Fueltank']"
   ]
  },
  {
   "cell_type": "code",
   "execution_count": 4,
   "metadata": {},
   "outputs": [
    {
     "data": {
      "text/html": [
       "<div>\n",
       "<style scoped>\n",
       "    .dataframe tbody tr th:only-of-type {\n",
       "        vertical-align: middle;\n",
       "    }\n",
       "\n",
       "    .dataframe tbody tr th {\n",
       "        vertical-align: top;\n",
       "    }\n",
       "\n",
       "    .dataframe thead th {\n",
       "        text-align: right;\n",
       "    }\n",
       "</style>\n",
       "<table border=\"1\" class=\"dataframe\">\n",
       "  <thead>\n",
       "    <tr style=\"text-align: right;\">\n",
       "      <th></th>\n",
       "      <th>MPG_Highway</th>\n",
       "      <th>Passengers</th>\n",
       "      <th>Length</th>\n",
       "      <th>Wheelbase</th>\n",
       "      <th>Width</th>\n",
       "      <th>U_Turn_Space</th>\n",
       "      <th>Rear_seat</th>\n",
       "      <th>Luggage</th>\n",
       "      <th>Weight</th>\n",
       "      <th>Horsepower</th>\n",
       "      <th>Fueltank</th>\n",
       "    </tr>\n",
       "  </thead>\n",
       "  <tbody>\n",
       "    <tr>\n",
       "      <th>0</th>\n",
       "      <td>31</td>\n",
       "      <td>-0.082794</td>\n",
       "      <td>-0.424883</td>\n",
       "      <td>-0.285386</td>\n",
       "      <td>-0.364210</td>\n",
       "      <td>-0.607145</td>\n",
       "      <td>-0.456945</td>\n",
       "      <td>-0.992270</td>\n",
       "      <td>-0.623674</td>\n",
       "      <td>-0.073088</td>\n",
       "      <td>-1.056458</td>\n",
       "    </tr>\n",
       "    <tr>\n",
       "      <th>1</th>\n",
       "      <td>25</td>\n",
       "      <td>-0.082794</td>\n",
       "      <td>0.807793</td>\n",
       "      <td>1.620864</td>\n",
       "      <td>0.429654</td>\n",
       "      <td>-0.296901</td>\n",
       "      <td>0.723496</td>\n",
       "      <td>0.326032</td>\n",
       "      <td>0.825733</td>\n",
       "      <td>1.072509</td>\n",
       "      <td>0.407238</td>\n",
       "    </tr>\n",
       "    <tr>\n",
       "      <th>2</th>\n",
       "      <td>26</td>\n",
       "      <td>-0.082794</td>\n",
       "      <td>-0.219437</td>\n",
       "      <td>-0.285386</td>\n",
       "      <td>-0.628831</td>\n",
       "      <td>-0.607145</td>\n",
       "      <td>0.048958</td>\n",
       "      <td>-0.003544</td>\n",
       "      <td>0.512118</td>\n",
       "      <td>0.537897</td>\n",
       "      <td>0.071808</td>\n",
       "    </tr>\n",
       "    <tr>\n",
       "      <th>3</th>\n",
       "      <td>26</td>\n",
       "      <td>0.879689</td>\n",
       "      <td>0.670829</td>\n",
       "      <td>0.301153</td>\n",
       "      <td>0.165033</td>\n",
       "      <td>-0.607145</td>\n",
       "      <td>1.060764</td>\n",
       "      <td>0.985183</td>\n",
       "      <td>0.562975</td>\n",
       "      <td>0.537897</td>\n",
       "      <td>1.352541</td>\n",
       "    </tr>\n",
       "    <tr>\n",
       "      <th>4</th>\n",
       "      <td>30</td>\n",
       "      <td>-1.045278</td>\n",
       "      <td>0.191455</td>\n",
       "      <td>0.741057</td>\n",
       "      <td>-0.099589</td>\n",
       "      <td>0.013344</td>\n",
       "      <td>-0.288310</td>\n",
       "      <td>-0.333119</td>\n",
       "      <td>0.961350</td>\n",
       "      <td>1.225256</td>\n",
       "      <td>1.352541</td>\n",
       "    </tr>\n",
       "  </tbody>\n",
       "</table>\n",
       "</div>"
      ],
      "text/plain": [
       "   MPG_Highway  Passengers    Length  Wheelbase     Width  U_Turn_Space  \\\n",
       "0           31   -0.082794 -0.424883  -0.285386 -0.364210     -0.607145   \n",
       "1           25   -0.082794  0.807793   1.620864  0.429654     -0.296901   \n",
       "2           26   -0.082794 -0.219437  -0.285386 -0.628831     -0.607145   \n",
       "3           26    0.879689  0.670829   0.301153  0.165033     -0.607145   \n",
       "4           30   -1.045278  0.191455   0.741057 -0.099589      0.013344   \n",
       "\n",
       "   Rear_seat   Luggage    Weight  Horsepower  Fueltank  \n",
       "0  -0.456945 -0.992270 -0.623674   -0.073088 -1.056458  \n",
       "1   0.723496  0.326032  0.825733    1.072509  0.407238  \n",
       "2   0.048958 -0.003544  0.512118    0.537897  0.071808  \n",
       "3   1.060764  0.985183  0.562975    0.537897  1.352541  \n",
       "4  -0.288310 -0.333119  0.961350    1.225256  1.352541  "
      ]
     },
     "execution_count": 4,
     "metadata": {},
     "output_type": "execute_result"
    }
   ],
   "source": [
    "# Some brief preprocessing\n",
    "df.columns = [col.replace(' ', '_') for col in df.columns]\n",
    "for col in x_cols:\n",
    "    df[col] = (df[col] - df[col].mean())/df[col].std()\n",
    "df.head()"
   ]
  },
  {
   "cell_type": "code",
   "execution_count": 5,
   "metadata": {},
   "outputs": [],
   "source": [
    "from statsmodels.formula.api import ols"
   ]
  },
  {
   "cell_type": "code",
   "execution_count": 6,
   "metadata": {},
   "outputs": [
    {
     "data": {
      "text/html": [
       "<table class=\"simpletable\">\n",
       "<caption>OLS Regression Results</caption>\n",
       "<tr>\n",
       "  <th>Dep. Variable:</th>       <td>MPG_Highway</td>   <th>  R-squared:         </th> <td>   0.746</td>\n",
       "</tr>\n",
       "<tr>\n",
       "  <th>Model:</th>                   <td>OLS</td>       <th>  Adj. R-squared:    </th> <td>   0.715</td>\n",
       "</tr>\n",
       "<tr>\n",
       "  <th>Method:</th>             <td>Least Squares</td>  <th>  F-statistic:       </th> <td>   24.03</td>\n",
       "</tr>\n",
       "<tr>\n",
       "  <th>Date:</th>             <td>Sun, 13 Oct 2019</td> <th>  Prob (F-statistic):</th> <td>2.02e-20</td>\n",
       "</tr>\n",
       "<tr>\n",
       "  <th>Time:</th>                 <td>23:50:42</td>     <th>  Log-Likelihood:    </th> <td> -223.47</td>\n",
       "</tr>\n",
       "<tr>\n",
       "  <th>No. Observations:</th>      <td>    93</td>      <th>  AIC:               </th> <td>   468.9</td>\n",
       "</tr>\n",
       "<tr>\n",
       "  <th>Df Residuals:</th>          <td>    82</td>      <th>  BIC:               </th> <td>   496.8</td>\n",
       "</tr>\n",
       "<tr>\n",
       "  <th>Df Model:</th>              <td>    10</td>      <th>                     </th>     <td> </td>   \n",
       "</tr>\n",
       "<tr>\n",
       "  <th>Covariance Type:</th>      <td>nonrobust</td>    <th>                     </th>     <td> </td>   \n",
       "</tr>\n",
       "</table>\n",
       "<table class=\"simpletable\">\n",
       "<tr>\n",
       "        <td></td>          <th>coef</th>     <th>std err</th>      <th>t</th>      <th>P>|t|</th>  <th>[0.025</th>    <th>0.975]</th>  \n",
       "</tr>\n",
       "<tr>\n",
       "  <th>Intercept</th>    <td>   29.0860</td> <td>    0.295</td> <td>   98.465</td> <td> 0.000</td> <td>   28.498</td> <td>   29.674</td>\n",
       "</tr>\n",
       "<tr>\n",
       "  <th>Passengers</th>   <td>   -1.0138</td> <td>    0.577</td> <td>   -1.757</td> <td> 0.083</td> <td>   -2.162</td> <td>    0.134</td>\n",
       "</tr>\n",
       "<tr>\n",
       "  <th>Length</th>       <td>    0.4625</td> <td>    0.624</td> <td>    0.741</td> <td> 0.461</td> <td>   -0.779</td> <td>    1.704</td>\n",
       "</tr>\n",
       "<tr>\n",
       "  <th>Wheelbase</th>    <td>    1.9899</td> <td>    0.833</td> <td>    2.389</td> <td> 0.019</td> <td>    0.333</td> <td>    3.647</td>\n",
       "</tr>\n",
       "<tr>\n",
       "  <th>Width</th>        <td>    1.2067</td> <td>    0.759</td> <td>    1.591</td> <td> 0.115</td> <td>   -0.302</td> <td>    2.716</td>\n",
       "</tr>\n",
       "<tr>\n",
       "  <th>U_Turn_Space</th> <td>   -0.4858</td> <td>    0.545</td> <td>   -0.892</td> <td> 0.375</td> <td>   -1.570</td> <td>    0.598</td>\n",
       "</tr>\n",
       "<tr>\n",
       "  <th>Rear_seat</th>    <td>    0.2338</td> <td>    0.459</td> <td>    0.509</td> <td> 0.612</td> <td>   -0.679</td> <td>    1.147</td>\n",
       "</tr>\n",
       "<tr>\n",
       "  <th>Luggage</th>      <td>    0.3229</td> <td>    0.447</td> <td>    0.723</td> <td> 0.472</td> <td>   -0.566</td> <td>    1.212</td>\n",
       "</tr>\n",
       "<tr>\n",
       "  <th>Weight</th>       <td>   -5.2787</td> <td>    1.220</td> <td>   -4.327</td> <td> 0.000</td> <td>   -7.705</td> <td>   -2.852</td>\n",
       "</tr>\n",
       "<tr>\n",
       "  <th>Horsepower</th>   <td>   -0.1101</td> <td>    0.660</td> <td>   -0.167</td> <td> 0.868</td> <td>   -1.422</td> <td>    1.202</td>\n",
       "</tr>\n",
       "<tr>\n",
       "  <th>Fueltank</th>     <td>   -1.6742</td> <td>    0.703</td> <td>   -2.383</td> <td> 0.019</td> <td>   -3.072</td> <td>   -0.276</td>\n",
       "</tr>\n",
       "</table>\n",
       "<table class=\"simpletable\">\n",
       "<tr>\n",
       "  <th>Omnibus:</th>       <td>15.867</td> <th>  Durbin-Watson:     </th> <td>   1.460</td>\n",
       "</tr>\n",
       "<tr>\n",
       "  <th>Prob(Omnibus):</th> <td> 0.000</td> <th>  Jarque-Bera (JB):  </th> <td>  23.638</td>\n",
       "</tr>\n",
       "<tr>\n",
       "  <th>Skew:</th>          <td> 0.749</td> <th>  Prob(JB):          </th> <td>7.36e-06</td>\n",
       "</tr>\n",
       "<tr>\n",
       "  <th>Kurtosis:</th>      <td> 4.963</td> <th>  Cond. No.          </th> <td>    12.2</td>\n",
       "</tr>\n",
       "</table><br/><br/>Warnings:<br/>[1] Standard Errors assume that the covariance matrix of the errors is correctly specified."
      ],
      "text/plain": [
       "<class 'statsmodels.iolib.summary.Summary'>\n",
       "\"\"\"\n",
       "                            OLS Regression Results                            \n",
       "==============================================================================\n",
       "Dep. Variable:            MPG_Highway   R-squared:                       0.746\n",
       "Model:                            OLS   Adj. R-squared:                  0.715\n",
       "Method:                 Least Squares   F-statistic:                     24.03\n",
       "Date:                Sun, 13 Oct 2019   Prob (F-statistic):           2.02e-20\n",
       "Time:                        23:50:42   Log-Likelihood:                -223.47\n",
       "No. Observations:                  93   AIC:                             468.9\n",
       "Df Residuals:                      82   BIC:                             496.8\n",
       "Df Model:                          10                                         \n",
       "Covariance Type:            nonrobust                                         \n",
       "================================================================================\n",
       "                   coef    std err          t      P>|t|      [0.025      0.975]\n",
       "--------------------------------------------------------------------------------\n",
       "Intercept       29.0860      0.295     98.465      0.000      28.498      29.674\n",
       "Passengers      -1.0138      0.577     -1.757      0.083      -2.162       0.134\n",
       "Length           0.4625      0.624      0.741      0.461      -0.779       1.704\n",
       "Wheelbase        1.9899      0.833      2.389      0.019       0.333       3.647\n",
       "Width            1.2067      0.759      1.591      0.115      -0.302       2.716\n",
       "U_Turn_Space    -0.4858      0.545     -0.892      0.375      -1.570       0.598\n",
       "Rear_seat        0.2338      0.459      0.509      0.612      -0.679       1.147\n",
       "Luggage          0.3229      0.447      0.723      0.472      -0.566       1.212\n",
       "Weight          -5.2787      1.220     -4.327      0.000      -7.705      -2.852\n",
       "Horsepower      -0.1101      0.660     -0.167      0.868      -1.422       1.202\n",
       "Fueltank        -1.6742      0.703     -2.383      0.019      -3.072      -0.276\n",
       "==============================================================================\n",
       "Omnibus:                       15.867   Durbin-Watson:                   1.460\n",
       "Prob(Omnibus):                  0.000   Jarque-Bera (JB):               23.638\n",
       "Skew:                           0.749   Prob(JB):                     7.36e-06\n",
       "Kurtosis:                       4.963   Cond. No.                         12.2\n",
       "==============================================================================\n",
       "\n",
       "Warnings:\n",
       "[1] Standard Errors assume that the covariance matrix of the errors is correctly specified.\n",
       "\"\"\""
      ]
     },
     "execution_count": 6,
     "metadata": {},
     "output_type": "execute_result"
    }
   ],
   "source": [
    "# Fitting the actual model\n",
    "predictors = '+'.join(x_cols)\n",
    "formula = outcome + '~' + predictors\n",
    "model = ols(formula=formula, data=df).fit()\n",
    "model.summary()"
   ]
  },
  {
   "cell_type": "markdown",
   "metadata": {},
   "source": [
    "## Assessing the Model\n",
    " \n",
    "When performing an initial assessment of the model you might focus on a number of different perspectives. There are metrics assessing the overall accuracy of the model including $r^2$ and mean square error. There are also many metrics when analyzing how various features contribute to the overall model. These are essential to building a story and intuition behind the model so that educated business strategies can be implemented to optimize the target variable. After all, typically you aren't solely interested in predicting a quantity in a black box given said information. Rather, you would often like to know the underlying influencers and how those can be adjusted in order to increase or decrease the final measured quantity whether it be sales, customer base, costs, or risk. Such metrics would include p-values associated with the various features, comparing models with features removed and investigating potential multicollinearity in the model. Multicollinearity also touches upon checking model assumptions. One underlying intuition motivating the regression model is that the features constitute a *set of levers* which, if appropriately adjusted, account for the target variable. The theory then goes that the errors should be simply the cause of noise in our measurements, or smaller unaccounted factors. These errors are then assumed to be normally distributed. "
   ]
  },
  {
   "cell_type": "markdown",
   "metadata": {},
   "source": [
    "## Comments on P-Values\n",
    "\n",
    "Based on the p-values above, you can see that there are a number of extraneous features. Recall that a common significance cutoff is 0.05. The refined model should eliminate these irrelevant features."
   ]
  },
  {
   "cell_type": "markdown",
   "metadata": {},
   "source": [
    "## Initial Refinement"
   ]
  },
  {
   "cell_type": "code",
   "execution_count": 7,
   "metadata": {},
   "outputs": [
    {
     "data": {
      "text/html": [
       "<table class=\"simpletable\">\n",
       "<caption>OLS Regression Results</caption>\n",
       "<tr>\n",
       "  <th>Dep. Variable:</th>       <td>MPG_Highway</td>   <th>  R-squared:         </th> <td>   0.726</td>\n",
       "</tr>\n",
       "<tr>\n",
       "  <th>Model:</th>                   <td>OLS</td>       <th>  Adj. R-squared:    </th> <td>   0.713</td>\n",
       "</tr>\n",
       "<tr>\n",
       "  <th>Method:</th>             <td>Least Squares</td>  <th>  F-statistic:       </th> <td>   58.19</td>\n",
       "</tr>\n",
       "<tr>\n",
       "  <th>Date:</th>             <td>Sun, 13 Oct 2019</td> <th>  Prob (F-statistic):</th> <td>6.35e-24</td>\n",
       "</tr>\n",
       "<tr>\n",
       "  <th>Time:</th>                 <td>23:51:48</td>     <th>  Log-Likelihood:    </th> <td> -226.97</td>\n",
       "</tr>\n",
       "<tr>\n",
       "  <th>No. Observations:</th>      <td>    93</td>      <th>  AIC:               </th> <td>   463.9</td>\n",
       "</tr>\n",
       "<tr>\n",
       "  <th>Df Residuals:</th>          <td>    88</td>      <th>  BIC:               </th> <td>   476.6</td>\n",
       "</tr>\n",
       "<tr>\n",
       "  <th>Df Model:</th>              <td>     4</td>      <th>                     </th>     <td> </td>   \n",
       "</tr>\n",
       "<tr>\n",
       "  <th>Covariance Type:</th>      <td>nonrobust</td>    <th>                     </th>     <td> </td>   \n",
       "</tr>\n",
       "</table>\n",
       "<table class=\"simpletable\">\n",
       "<tr>\n",
       "       <td></td>         <th>coef</th>     <th>std err</th>      <th>t</th>      <th>P>|t|</th>  <th>[0.025</th>    <th>0.975]</th>  \n",
       "</tr>\n",
       "<tr>\n",
       "  <th>Intercept</th>  <td>   29.0860</td> <td>    0.296</td> <td>   98.232</td> <td> 0.000</td> <td>   28.498</td> <td>   29.674</td>\n",
       "</tr>\n",
       "<tr>\n",
       "  <th>Passengers</th> <td>   -1.0457</td> <td>    0.418</td> <td>   -2.501</td> <td> 0.014</td> <td>   -1.877</td> <td>   -0.215</td>\n",
       "</tr>\n",
       "<tr>\n",
       "  <th>Wheelbase</th>  <td>    2.8249</td> <td>    0.713</td> <td>    3.960</td> <td> 0.000</td> <td>    1.407</td> <td>    4.243</td>\n",
       "</tr>\n",
       "<tr>\n",
       "  <th>Weight</th>     <td>   -4.9206</td> <td>    0.894</td> <td>   -5.505</td> <td> 0.000</td> <td>   -6.697</td> <td>   -3.144</td>\n",
       "</tr>\n",
       "<tr>\n",
       "  <th>Fueltank</th>   <td>   -1.4385</td> <td>    0.668</td> <td>   -2.154</td> <td> 0.034</td> <td>   -2.766</td> <td>   -0.111</td>\n",
       "</tr>\n",
       "</table>\n",
       "<table class=\"simpletable\">\n",
       "<tr>\n",
       "  <th>Omnibus:</th>       <td>10.649</td> <th>  Durbin-Watson:     </th> <td>   1.397</td>\n",
       "</tr>\n",
       "<tr>\n",
       "  <th>Prob(Omnibus):</th> <td> 0.005</td> <th>  Jarque-Bera (JB):  </th> <td>  15.761</td>\n",
       "</tr>\n",
       "<tr>\n",
       "  <th>Skew:</th>          <td> 0.489</td> <th>  Prob(JB):          </th> <td>0.000378</td>\n",
       "</tr>\n",
       "<tr>\n",
       "  <th>Kurtosis:</th>      <td> 4.763</td> <th>  Cond. No.          </th> <td>    6.70</td>\n",
       "</tr>\n",
       "</table><br/><br/>Warnings:<br/>[1] Standard Errors assume that the covariance matrix of the errors is correctly specified."
      ],
      "text/plain": [
       "<class 'statsmodels.iolib.summary.Summary'>\n",
       "\"\"\"\n",
       "                            OLS Regression Results                            \n",
       "==============================================================================\n",
       "Dep. Variable:            MPG_Highway   R-squared:                       0.726\n",
       "Model:                            OLS   Adj. R-squared:                  0.713\n",
       "Method:                 Least Squares   F-statistic:                     58.19\n",
       "Date:                Sun, 13 Oct 2019   Prob (F-statistic):           6.35e-24\n",
       "Time:                        23:51:48   Log-Likelihood:                -226.97\n",
       "No. Observations:                  93   AIC:                             463.9\n",
       "Df Residuals:                      88   BIC:                             476.6\n",
       "Df Model:                           4                                         \n",
       "Covariance Type:            nonrobust                                         \n",
       "==============================================================================\n",
       "                 coef    std err          t      P>|t|      [0.025      0.975]\n",
       "------------------------------------------------------------------------------\n",
       "Intercept     29.0860      0.296     98.232      0.000      28.498      29.674\n",
       "Passengers    -1.0457      0.418     -2.501      0.014      -1.877      -0.215\n",
       "Wheelbase      2.8249      0.713      3.960      0.000       1.407       4.243\n",
       "Weight        -4.9206      0.894     -5.505      0.000      -6.697      -3.144\n",
       "Fueltank      -1.4385      0.668     -2.154      0.034      -2.766      -0.111\n",
       "==============================================================================\n",
       "Omnibus:                       10.649   Durbin-Watson:                   1.397\n",
       "Prob(Omnibus):                  0.005   Jarque-Bera (JB):               15.761\n",
       "Skew:                           0.489   Prob(JB):                     0.000378\n",
       "Kurtosis:                       4.763   Cond. No.                         6.70\n",
       "==============================================================================\n",
       "\n",
       "Warnings:\n",
       "[1] Standard Errors assume that the covariance matrix of the errors is correctly specified.\n",
       "\"\"\""
      ]
     },
     "execution_count": 7,
     "metadata": {},
     "output_type": "execute_result"
    }
   ],
   "source": [
    "outcome = 'MPG_Highway'\n",
    "x_cols = ['Passengers', 'Wheelbase', 'Weight', 'Fueltank']\n",
    "predictors = '+'.join(x_cols)\n",
    "formula = outcome + '~' + predictors\n",
    "model = ols(formula=formula, data=df).fit()\n",
    "model.summary()"
   ]
  },
  {
   "cell_type": "markdown",
   "metadata": {},
   "source": [
    "> **Comments:** Note that while the $r^2$ value did drop, it did so only marginally despite dropping 6/10 of the original features. Additionally, all of the p-values indicate that all of the current features are substantially influential.\n",
    "\n",
    "## Additional Assessments and Refinement\n",
    "\n",
    "Now that you've made some initial refinements to the model, it's time to continue checking further assumptions."
   ]
  },
  {
   "cell_type": "markdown",
   "metadata": {},
   "source": [
    "## Checking for Multicollinearity\n",
    "\n",
    "While you've examined the bi-variable relations previously by examining pair-wise correlation between features, you haven't fully accounted for multicollinearity which is a relation of 3 or more variables. One test for this is the [variance inflation factor](https://en.wikipedia.org/wiki/Variance_inflation_factor). Typically, variables with a vif of 5 or greater (or more definitively 10 or greater) are displaying multicollinearity with other variables in the feature set. We we'll check this here:  "
   ]
  },
  {
   "cell_type": "code",
   "execution_count": 8,
   "metadata": {},
   "outputs": [],
   "source": [
    "from statsmodels.stats.outliers_influence import variance_inflation_factor"
   ]
  },
  {
   "cell_type": "code",
   "execution_count": 9,
   "metadata": {},
   "outputs": [
    {
     "data": {
      "text/plain": [
       "[('Passengers', 1.972330344357365),\n",
       " ('Wheelbase', 5.743165022553869),\n",
       " ('Weight', 9.016035842933373),\n",
       " ('Fueltank', 5.032060527995974)]"
      ]
     },
     "execution_count": 9,
     "metadata": {},
     "output_type": "execute_result"
    }
   ],
   "source": [
    "X = df[x_cols]\n",
    "vif = [variance_inflation_factor(X.values, i) for i in range(X.shape[1])]\n",
    "list(zip(x_cols, vif))"
   ]
  },
  {
   "cell_type": "markdown",
   "metadata": {},
   "source": [
    "> **Comment:** While the p-values indicate that all of the current features are impactful, the variance inflation factor indicates that there is moderate multicollinearity between our variables. With that, it makes sense to briefly update the features once again and recheck for multicollinearity."
   ]
  },
  {
   "cell_type": "code",
   "execution_count": 10,
   "metadata": {},
   "outputs": [
    {
     "data": {
      "text/html": [
       "<table class=\"simpletable\">\n",
       "<caption>OLS Regression Results</caption>\n",
       "<tr>\n",
       "  <th>Dep. Variable:</th>       <td>MPG_Highway</td>   <th>  R-squared:         </th> <td>   0.631</td>\n",
       "</tr>\n",
       "<tr>\n",
       "  <th>Model:</th>                   <td>OLS</td>       <th>  Adj. R-squared:    </th> <td>   0.619</td>\n",
       "</tr>\n",
       "<tr>\n",
       "  <th>Method:</th>             <td>Least Squares</td>  <th>  F-statistic:       </th> <td>   50.77</td>\n",
       "</tr>\n",
       "<tr>\n",
       "  <th>Date:</th>             <td>Sun, 13 Oct 2019</td> <th>  Prob (F-statistic):</th> <td>3.21e-19</td>\n",
       "</tr>\n",
       "<tr>\n",
       "  <th>Time:</th>                 <td>23:53:16</td>     <th>  Log-Likelihood:    </th> <td> -240.73</td>\n",
       "</tr>\n",
       "<tr>\n",
       "  <th>No. Observations:</th>      <td>    93</td>      <th>  AIC:               </th> <td>   489.5</td>\n",
       "</tr>\n",
       "<tr>\n",
       "  <th>Df Residuals:</th>          <td>    89</td>      <th>  BIC:               </th> <td>   499.6</td>\n",
       "</tr>\n",
       "<tr>\n",
       "  <th>Df Model:</th>              <td>     3</td>      <th>                     </th>     <td> </td>   \n",
       "</tr>\n",
       "<tr>\n",
       "  <th>Covariance Type:</th>      <td>nonrobust</td>    <th>                     </th>     <td> </td>   \n",
       "</tr>\n",
       "</table>\n",
       "<table class=\"simpletable\">\n",
       "<tr>\n",
       "       <td></td>         <th>coef</th>     <th>std err</th>      <th>t</th>      <th>P>|t|</th>  <th>[0.025</th>    <th>0.975]</th>  \n",
       "</tr>\n",
       "<tr>\n",
       "  <th>Intercept</th>  <td>   29.0860</td> <td>    0.341</td> <td>   85.203</td> <td> 0.000</td> <td>   28.408</td> <td>   29.764</td>\n",
       "</tr>\n",
       "<tr>\n",
       "  <th>Passengers</th> <td>   -0.8302</td> <td>    0.480</td> <td>   -1.730</td> <td> 0.087</td> <td>   -1.784</td> <td>    0.123</td>\n",
       "</tr>\n",
       "<tr>\n",
       "  <th>Wheelbase</th>  <td>    0.4075</td> <td>    0.648</td> <td>    0.629</td> <td> 0.531</td> <td>   -0.881</td> <td>    1.696</td>\n",
       "</tr>\n",
       "<tr>\n",
       "  <th>Fueltank</th>   <td>   -4.1077</td> <td>    0.529</td> <td>   -7.759</td> <td> 0.000</td> <td>   -5.160</td> <td>   -3.056</td>\n",
       "</tr>\n",
       "</table>\n",
       "<table class=\"simpletable\">\n",
       "<tr>\n",
       "  <th>Omnibus:</th>       <td>25.731</td> <th>  Durbin-Watson:     </th> <td>   1.417</td>\n",
       "</tr>\n",
       "<tr>\n",
       "  <th>Prob(Omnibus):</th> <td> 0.000</td> <th>  Jarque-Bera (JB):  </th> <td>  56.037</td>\n",
       "</tr>\n",
       "<tr>\n",
       "  <th>Skew:</th>          <td> 1.002</td> <th>  Prob(JB):          </th> <td>6.79e-13</td>\n",
       "</tr>\n",
       "<tr>\n",
       "  <th>Kurtosis:</th>      <td> 6.231</td> <th>  Cond. No.          </th> <td>    3.57</td>\n",
       "</tr>\n",
       "</table><br/><br/>Warnings:<br/>[1] Standard Errors assume that the covariance matrix of the errors is correctly specified."
      ],
      "text/plain": [
       "<class 'statsmodels.iolib.summary.Summary'>\n",
       "\"\"\"\n",
       "                            OLS Regression Results                            \n",
       "==============================================================================\n",
       "Dep. Variable:            MPG_Highway   R-squared:                       0.631\n",
       "Model:                            OLS   Adj. R-squared:                  0.619\n",
       "Method:                 Least Squares   F-statistic:                     50.77\n",
       "Date:                Sun, 13 Oct 2019   Prob (F-statistic):           3.21e-19\n",
       "Time:                        23:53:16   Log-Likelihood:                -240.73\n",
       "No. Observations:                  93   AIC:                             489.5\n",
       "Df Residuals:                      89   BIC:                             499.6\n",
       "Df Model:                           3                                         \n",
       "Covariance Type:            nonrobust                                         \n",
       "==============================================================================\n",
       "                 coef    std err          t      P>|t|      [0.025      0.975]\n",
       "------------------------------------------------------------------------------\n",
       "Intercept     29.0860      0.341     85.203      0.000      28.408      29.764\n",
       "Passengers    -0.8302      0.480     -1.730      0.087      -1.784       0.123\n",
       "Wheelbase      0.4075      0.648      0.629      0.531      -0.881       1.696\n",
       "Fueltank      -4.1077      0.529     -7.759      0.000      -5.160      -3.056\n",
       "==============================================================================\n",
       "Omnibus:                       25.731   Durbin-Watson:                   1.417\n",
       "Prob(Omnibus):                  0.000   Jarque-Bera (JB):               56.037\n",
       "Skew:                           1.002   Prob(JB):                     6.79e-13\n",
       "Kurtosis:                       6.231   Cond. No.                         3.57\n",
       "==============================================================================\n",
       "\n",
       "Warnings:\n",
       "[1] Standard Errors assume that the covariance matrix of the errors is correctly specified.\n",
       "\"\"\""
      ]
     },
     "execution_count": 10,
     "metadata": {},
     "output_type": "execute_result"
    }
   ],
   "source": [
    "outcome = 'MPG_Highway'\n",
    "x_cols = ['Passengers', 'Wheelbase', 'Fueltank']\n",
    "predictors = '+'.join(x_cols)\n",
    "formula = outcome + '~' + predictors\n",
    "model = ols(formula=formula, data=df).fit()\n",
    "model.summary()"
   ]
  },
  {
   "cell_type": "code",
   "execution_count": 11,
   "metadata": {},
   "outputs": [
    {
     "data": {
      "text/plain": [
       "[('Passengers', 1.955034462110378),\n",
       " ('Wheelbase', 3.5670430451064385),\n",
       " ('Fueltank', 2.378966703427496)]"
      ]
     },
     "execution_count": 11,
     "metadata": {},
     "output_type": "execute_result"
    }
   ],
   "source": [
    "X = df[x_cols]\n",
    "vif = [variance_inflation_factor(X.values, i) for i in range(X.shape[1])]\n",
    "list(zip(x_cols, vif))"
   ]
  },
  {
   "cell_type": "markdown",
   "metadata": {},
   "source": [
    "> **Comment:** This is a modeling choice. Clearly there are advantages and tradebacks to the two approaches. On the one hand, removing the weight component has substantially diminished the model's performance. On the other hand, multicollinearity between the features has been reduced. For now, let's opt for the previous version of the model which does suffer from some multicollinearity, which could impact model interpretation, but produces a more accurate model overall."
   ]
  },
  {
   "cell_type": "code",
   "execution_count": 12,
   "metadata": {},
   "outputs": [
    {
     "data": {
      "text/html": [
       "<table class=\"simpletable\">\n",
       "<caption>OLS Regression Results</caption>\n",
       "<tr>\n",
       "  <th>Dep. Variable:</th>       <td>MPG_Highway</td>   <th>  R-squared:         </th> <td>   0.726</td>\n",
       "</tr>\n",
       "<tr>\n",
       "  <th>Model:</th>                   <td>OLS</td>       <th>  Adj. R-squared:    </th> <td>   0.713</td>\n",
       "</tr>\n",
       "<tr>\n",
       "  <th>Method:</th>             <td>Least Squares</td>  <th>  F-statistic:       </th> <td>   58.19</td>\n",
       "</tr>\n",
       "<tr>\n",
       "  <th>Date:</th>             <td>Sun, 13 Oct 2019</td> <th>  Prob (F-statistic):</th> <td>6.35e-24</td>\n",
       "</tr>\n",
       "<tr>\n",
       "  <th>Time:</th>                 <td>23:54:05</td>     <th>  Log-Likelihood:    </th> <td> -226.97</td>\n",
       "</tr>\n",
       "<tr>\n",
       "  <th>No. Observations:</th>      <td>    93</td>      <th>  AIC:               </th> <td>   463.9</td>\n",
       "</tr>\n",
       "<tr>\n",
       "  <th>Df Residuals:</th>          <td>    88</td>      <th>  BIC:               </th> <td>   476.6</td>\n",
       "</tr>\n",
       "<tr>\n",
       "  <th>Df Model:</th>              <td>     4</td>      <th>                     </th>     <td> </td>   \n",
       "</tr>\n",
       "<tr>\n",
       "  <th>Covariance Type:</th>      <td>nonrobust</td>    <th>                     </th>     <td> </td>   \n",
       "</tr>\n",
       "</table>\n",
       "<table class=\"simpletable\">\n",
       "<tr>\n",
       "       <td></td>         <th>coef</th>     <th>std err</th>      <th>t</th>      <th>P>|t|</th>  <th>[0.025</th>    <th>0.975]</th>  \n",
       "</tr>\n",
       "<tr>\n",
       "  <th>Intercept</th>  <td>   29.0860</td> <td>    0.296</td> <td>   98.232</td> <td> 0.000</td> <td>   28.498</td> <td>   29.674</td>\n",
       "</tr>\n",
       "<tr>\n",
       "  <th>Passengers</th> <td>   -1.0457</td> <td>    0.418</td> <td>   -2.501</td> <td> 0.014</td> <td>   -1.877</td> <td>   -0.215</td>\n",
       "</tr>\n",
       "<tr>\n",
       "  <th>Wheelbase</th>  <td>    2.8249</td> <td>    0.713</td> <td>    3.960</td> <td> 0.000</td> <td>    1.407</td> <td>    4.243</td>\n",
       "</tr>\n",
       "<tr>\n",
       "  <th>Weight</th>     <td>   -4.9206</td> <td>    0.894</td> <td>   -5.505</td> <td> 0.000</td> <td>   -6.697</td> <td>   -3.144</td>\n",
       "</tr>\n",
       "<tr>\n",
       "  <th>Fueltank</th>   <td>   -1.4385</td> <td>    0.668</td> <td>   -2.154</td> <td> 0.034</td> <td>   -2.766</td> <td>   -0.111</td>\n",
       "</tr>\n",
       "</table>\n",
       "<table class=\"simpletable\">\n",
       "<tr>\n",
       "  <th>Omnibus:</th>       <td>10.649</td> <th>  Durbin-Watson:     </th> <td>   1.397</td>\n",
       "</tr>\n",
       "<tr>\n",
       "  <th>Prob(Omnibus):</th> <td> 0.005</td> <th>  Jarque-Bera (JB):  </th> <td>  15.761</td>\n",
       "</tr>\n",
       "<tr>\n",
       "  <th>Skew:</th>          <td> 0.489</td> <th>  Prob(JB):          </th> <td>0.000378</td>\n",
       "</tr>\n",
       "<tr>\n",
       "  <th>Kurtosis:</th>      <td> 4.763</td> <th>  Cond. No.          </th> <td>    6.70</td>\n",
       "</tr>\n",
       "</table><br/><br/>Warnings:<br/>[1] Standard Errors assume that the covariance matrix of the errors is correctly specified."
      ],
      "text/plain": [
       "<class 'statsmodels.iolib.summary.Summary'>\n",
       "\"\"\"\n",
       "                            OLS Regression Results                            \n",
       "==============================================================================\n",
       "Dep. Variable:            MPG_Highway   R-squared:                       0.726\n",
       "Model:                            OLS   Adj. R-squared:                  0.713\n",
       "Method:                 Least Squares   F-statistic:                     58.19\n",
       "Date:                Sun, 13 Oct 2019   Prob (F-statistic):           6.35e-24\n",
       "Time:                        23:54:05   Log-Likelihood:                -226.97\n",
       "No. Observations:                  93   AIC:                             463.9\n",
       "Df Residuals:                      88   BIC:                             476.6\n",
       "Df Model:                           4                                         \n",
       "Covariance Type:            nonrobust                                         \n",
       "==============================================================================\n",
       "                 coef    std err          t      P>|t|      [0.025      0.975]\n",
       "------------------------------------------------------------------------------\n",
       "Intercept     29.0860      0.296     98.232      0.000      28.498      29.674\n",
       "Passengers    -1.0457      0.418     -2.501      0.014      -1.877      -0.215\n",
       "Wheelbase      2.8249      0.713      3.960      0.000       1.407       4.243\n",
       "Weight        -4.9206      0.894     -5.505      0.000      -6.697      -3.144\n",
       "Fueltank      -1.4385      0.668     -2.154      0.034      -2.766      -0.111\n",
       "==============================================================================\n",
       "Omnibus:                       10.649   Durbin-Watson:                   1.397\n",
       "Prob(Omnibus):                  0.005   Jarque-Bera (JB):               15.761\n",
       "Skew:                           0.489   Prob(JB):                     0.000378\n",
       "Kurtosis:                       4.763   Cond. No.                         6.70\n",
       "==============================================================================\n",
       "\n",
       "Warnings:\n",
       "[1] Standard Errors assume that the covariance matrix of the errors is correctly specified.\n",
       "\"\"\""
      ]
     },
     "execution_count": 12,
     "metadata": {},
     "output_type": "execute_result"
    }
   ],
   "source": [
    "outcome = 'MPG_Highway'\n",
    "x_cols = ['Passengers', 'Wheelbase', 'Weight', 'Fueltank']\n",
    "predictors = '+'.join(x_cols)\n",
    "formula = outcome + '~' + predictors\n",
    "model = ols(formula=formula, data=df).fit()\n",
    "model.summary()"
   ]
  },
  {
   "cell_type": "markdown",
   "metadata": {},
   "source": [
    "## Checking for Normality\n",
    "\n",
    "Again recall that we should check to ensure that our residuals are normally distributed. As you've seen before, a Q-Q plot is a helpful visual for analyzing this."
   ]
  },
  {
   "cell_type": "code",
   "execution_count": 13,
   "metadata": {},
   "outputs": [],
   "source": [
    "import statsmodels.api as sm\n",
    "import scipy.stats as stats"
   ]
  },
  {
   "cell_type": "code",
   "execution_count": 14,
   "metadata": {},
   "outputs": [
    {
     "data": {
      "image/png": "[encoded data removed]",
      "text/plain": [
       "<Figure size 432x288 with 1 Axes>"
      ]
     },
     "metadata": {
      "needs_background": "light"
     },
     "output_type": "display_data"
    }
   ],
   "source": [
    "fig = sm.graphics.qqplot(model.resid, dist=stats.norm, line='45', fit=True)"
   ]
  },
  {
   "cell_type": "markdown",
   "metadata": {},
   "source": [
    "> **Comment:** Overall, looks fairly robust, although there are some violations near the tails."
   ]
  },
  {
   "cell_type": "markdown",
   "metadata": {},
   "source": [
    "## Checking for Homoscedasticity\n",
    "\n",
    "You should also check that your errors do not display heteroscedasticity; if the errors appear to increase or decrease based on the target variable, then the model does not meet the initial assumptions."
   ]
  },
  {
   "cell_type": "code",
   "execution_count": 15,
   "metadata": {},
   "outputs": [
    {
     "data": {
      "text/plain": [
       "[<matplotlib.lines.Line2D at 0x7fd846307550>]"
      ]
     },
     "execution_count": 15,
     "metadata": {},
     "output_type": "execute_result"
    },
    {
     "data": {
      "image/png": "[encoded data removed]",
      "text/plain": [
       "<Figure size 432x288 with 1 Axes>"
      ]
     },
     "metadata": {
      "needs_background": "light"
     },
     "output_type": "display_data"
    }
   ],
   "source": [
    "plt.scatter(model.predict(df[x_cols]), model.resid)\n",
    "plt.plot(model.predict(df[x_cols]), [0 for i in range(len(df))])"
   ]
  },
  {
   "cell_type": "markdown",
   "metadata": {},
   "source": [
    "> **Comment:** There appears to be some issues with high outliers displaying disproportionate errors. Further work with outliers could be warranted."
   ]
  },
  {
   "cell_type": "markdown",
   "metadata": {},
   "source": [
    "## Model Refinement III\n",
    " \n",
    "Due to the particularly large errors visible above ~37MPG, it's reasonable to remove these outliers and retrain the model on the remaining subset. While the model will be specific to this subset, it could prove to be more accurate and reflective of the general domain."
   ]
  },
  {
   "cell_type": "code",
   "execution_count": 16,
   "metadata": {},
   "outputs": [
    {
     "name": "stdout",
     "output_type": "stream",
     "text": [
      "0.9 percentile: 36.0\n",
      "0.91 percentile: 36.0\n",
      "0.92 percentile: 36.64\n",
      "0.93 percentile: 37.0\n",
      "0.94 percentile: 37.0\n",
      "0.95 percentile: 37.39999999999999\n",
      "0.96 percentile: 38.95999999999998\n",
      "0.97 percentile: 41.47999999999999\n",
      "0.98 percentile: 43.47999999999999\n"
     ]
    }
   ],
   "source": [
    "#Finding a cutoff point\n",
    "for i in range(90, 99):\n",
    "    q = i / 100\n",
    "    print('{} percentile: {}'.format(q, df['MPG_Highway'].quantile(q=q)))"
   ]
  },
  {
   "cell_type": "code",
   "execution_count": 17,
   "metadata": {},
   "outputs": [
    {
     "name": "stdout",
     "output_type": "stream",
     "text": [
      "Percent removed: 0.053763440860215055\n"
     ]
    },
    {
     "data": {
      "text/html": [
       "<table class=\"simpletable\">\n",
       "<caption>OLS Regression Results</caption>\n",
       "<tr>\n",
       "  <th>Dep. Variable:</th>       <td>MPG_Highway</td>   <th>  R-squared:         </th> <td>   0.716</td>\n",
       "</tr>\n",
       "<tr>\n",
       "  <th>Model:</th>                   <td>OLS</td>       <th>  Adj. R-squared:    </th> <td>   0.703</td>\n",
       "</tr>\n",
       "<tr>\n",
       "  <th>Method:</th>             <td>Least Squares</td>  <th>  F-statistic:       </th> <td>   52.42</td>\n",
       "</tr>\n",
       "<tr>\n",
       "  <th>Date:</th>             <td>Sun, 13 Oct 2019</td> <th>  Prob (F-statistic):</th> <td>5.93e-22</td>\n",
       "</tr>\n",
       "<tr>\n",
       "  <th>Time:</th>                 <td>23:55:05</td>     <th>  Log-Likelihood:    </th> <td> -191.69</td>\n",
       "</tr>\n",
       "<tr>\n",
       "  <th>No. Observations:</th>      <td>    88</td>      <th>  AIC:               </th> <td>   393.4</td>\n",
       "</tr>\n",
       "<tr>\n",
       "  <th>Df Residuals:</th>          <td>    83</td>      <th>  BIC:               </th> <td>   405.8</td>\n",
       "</tr>\n",
       "<tr>\n",
       "  <th>Df Model:</th>              <td>     4</td>      <th>                     </th>     <td> </td>   \n",
       "</tr>\n",
       "<tr>\n",
       "  <th>Covariance Type:</th>      <td>nonrobust</td>    <th>                     </th>     <td> </td>   \n",
       "</tr>\n",
       "</table>\n",
       "<table class=\"simpletable\">\n",
       "<tr>\n",
       "       <td></td>         <th>coef</th>     <th>std err</th>      <th>t</th>      <th>P>|t|</th>  <th>[0.025</th>    <th>0.975]</th>  \n",
       "</tr>\n",
       "<tr>\n",
       "  <th>Intercept</th>  <td>   28.6170</td> <td>    0.236</td> <td>  121.154</td> <td> 0.000</td> <td>   28.147</td> <td>   29.087</td>\n",
       "</tr>\n",
       "<tr>\n",
       "  <th>Passengers</th> <td>   -0.6135</td> <td>    0.330</td> <td>   -1.860</td> <td> 0.066</td> <td>   -1.270</td> <td>    0.043</td>\n",
       "</tr>\n",
       "<tr>\n",
       "  <th>Wheelbase</th>  <td>    1.4837</td> <td>    0.583</td> <td>    2.547</td> <td> 0.013</td> <td>    0.325</td> <td>    2.642</td>\n",
       "</tr>\n",
       "<tr>\n",
       "  <th>Weight</th>     <td>   -3.2860</td> <td>    0.719</td> <td>   -4.570</td> <td> 0.000</td> <td>   -4.716</td> <td>   -1.856</td>\n",
       "</tr>\n",
       "<tr>\n",
       "  <th>Fueltank</th>   <td>   -1.3575</td> <td>    0.518</td> <td>   -2.619</td> <td> 0.010</td> <td>   -2.388</td> <td>   -0.327</td>\n",
       "</tr>\n",
       "</table>\n",
       "<table class=\"simpletable\">\n",
       "<tr>\n",
       "  <th>Omnibus:</th>       <td> 2.603</td> <th>  Durbin-Watson:     </th> <td>   1.279</td>\n",
       "</tr>\n",
       "<tr>\n",
       "  <th>Prob(Omnibus):</th> <td> 0.272</td> <th>  Jarque-Bera (JB):  </th> <td>   1.940</td>\n",
       "</tr>\n",
       "<tr>\n",
       "  <th>Skew:</th>          <td>-0.257</td> <th>  Prob(JB):          </th> <td>   0.379</td>\n",
       "</tr>\n",
       "<tr>\n",
       "  <th>Kurtosis:</th>      <td> 3.515</td> <th>  Cond. No.          </th> <td>    6.58</td>\n",
       "</tr>\n",
       "</table><br/><br/>Warnings:<br/>[1] Standard Errors assume that the covariance matrix of the errors is correctly specified."
      ],
      "text/plain": [
       "<class 'statsmodels.iolib.summary.Summary'>\n",
       "\"\"\"\n",
       "                            OLS Regression Results                            \n",
       "==============================================================================\n",
       "Dep. Variable:            MPG_Highway   R-squared:                       0.716\n",
       "Model:                            OLS   Adj. R-squared:                  0.703\n",
       "Method:                 Least Squares   F-statistic:                     52.42\n",
       "Date:                Sun, 13 Oct 2019   Prob (F-statistic):           5.93e-22\n",
       "Time:                        23:55:05   Log-Likelihood:                -191.69\n",
       "No. Observations:                  88   AIC:                             393.4\n",
       "Df Residuals:                      83   BIC:                             405.8\n",
       "Df Model:                           4                                         \n",
       "Covariance Type:            nonrobust                                         \n",
       "==============================================================================\n",
       "                 coef    std err          t      P>|t|      [0.025      0.975]\n",
       "------------------------------------------------------------------------------\n",
       "Intercept     28.6170      0.236    121.154      0.000      28.147      29.087\n",
       "Passengers    -0.6135      0.330     -1.860      0.066      -1.270       0.043\n",
       "Wheelbase      1.4837      0.583      2.547      0.013       0.325       2.642\n",
       "Weight        -3.2860      0.719     -4.570      0.000      -4.716      -1.856\n",
       "Fueltank      -1.3575      0.518     -2.619      0.010      -2.388      -0.327\n",
       "==============================================================================\n",
       "Omnibus:                        2.603   Durbin-Watson:                   1.279\n",
       "Prob(Omnibus):                  0.272   Jarque-Bera (JB):                1.940\n",
       "Skew:                          -0.257   Prob(JB):                        0.379\n",
       "Kurtosis:                       3.515   Cond. No.                         6.58\n",
       "==============================================================================\n",
       "\n",
       "Warnings:\n",
       "[1] Standard Errors assume that the covariance matrix of the errors is correctly specified.\n",
       "\"\"\""
      ]
     },
     "execution_count": 17,
     "metadata": {},
     "output_type": "execute_result"
    }
   ],
   "source": [
    "subset = df[df['MPG_Highway'] < 38]\n",
    "print('Percent removed:',(len(df) - len(subset))/len(df))\n",
    "outcome = 'MPG_Highway'\n",
    "x_cols = ['Passengers', 'Wheelbase', 'Weight', 'Fueltank']\n",
    "predictors = '+'.join(x_cols)\n",
    "formula = outcome + '~' + predictors\n",
    "model = ols(formula=formula, data=subset).fit()\n",
    "model.summary()"
   ]
  },
  {
   "cell_type": "markdown",
   "metadata": {},
   "source": [
    "## Rechecking Normality"
   ]
  },
  {
   "cell_type": "code",
   "execution_count": 18,
   "metadata": {},
   "outputs": [
    {
     "data": {
      "image/png": "[encoded data removed]",
      "text/plain": [
       "<Figure size 432x288 with 1 Axes>"
      ]
     },
     "metadata": {
      "needs_background": "light"
     },
     "output_type": "display_data"
    }
   ],
   "source": [
    "fig = sm.graphics.qqplot(model.resid, dist=stats.norm, line='45', fit=True)"
   ]
  },
  {
   "cell_type": "markdown",
   "metadata": {},
   "source": [
    "## Rechecking Homoscedasticity"
   ]
  },
  {
   "cell_type": "code",
   "execution_count": 19,
   "metadata": {},
   "outputs": [
    {
     "data": {
      "text/plain": [
       "[<matplotlib.lines.Line2D at 0x1c23aec208>]"
      ]
     },
     "execution_count": 19,
     "metadata": {},
     "output_type": "execute_result"
    },
    {
     "data": {
      "image/png": "[encoded data removed]",
      "text/plain": [
       "<Figure size 432x288 with 1 Axes>"
      ]
     },
     "metadata": {
      "needs_background": "light"
     },
     "output_type": "display_data"
    }
   ],
   "source": [
    "plt.scatter(model.predict(subset[x_cols]), model.resid)\n",
    "plt.plot(model.predict(subset[x_cols]), [0 for i in range(len(subset))])"
   ]
  },
  {
   "cell_type": "markdown",
   "metadata": {},
   "source": [
    "> **Comments:** Awesome! The normality assumption as seen through the Q-Q plot appears improved. Similarly, there are no discernible patterns in the residuals, having removed some of the heavy outliers. There was marginal loss in model performance despite subsetting the data."
   ]
  },
  {
   "cell_type": "markdown",
   "metadata": {},
   "source": [
    "## Summary \n",
    "\n",
    "In this lesson, you reviewed some of the key steps towards building and evaluating a linear regression model. Next, you'll get a chance to continue on with the full Data Science process yourself and attempt building a model to meet the original specs from your new boss at Lego!"
   ]
  }
 ],
 "metadata": {
  "kernelspec": {
   "display_name": "Python 3",
   "language": "python",
   "name": "python3"
  },
  "language_info": {
   "codemirror_mode": {
    "name": "ipython",
    "version": 3
   },
   "file_extension": ".py",
   "mimetype": "text/x-python",
   "name": "python",
   "nbconvert_exporter": "python",
   "pygments_lexer": "ipython3",
   "version": "3.6.6"
  }
 },
 "nbformat": 4,
 "nbformat_minor": 2
}
